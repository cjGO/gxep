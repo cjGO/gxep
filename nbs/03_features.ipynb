{
 "cells": [
  {
   "cell_type": "markdown",
   "metadata": {},
   "source": [
    "# features\n",
    "\n",
    "> Fill in a module description here"
   ]
  },
  {
   "cell_type": "code",
   "execution_count": null,
   "metadata": {},
   "outputs": [],
   "source": [
    "#| default_exp features"
   ]
  },
  {
   "cell_type": "code",
   "execution_count": null,
   "metadata": {},
   "outputs": [],
   "source": [
    "#| hide\n",
    "from nbdev.showdoc import *"
   ]
  },
  {
   "cell_type": "code",
   "execution_count": null,
   "metadata": {},
   "outputs": [],
   "source": [
    "#| export\n",
    "import numpy as np\n",
    "import pandas as pd # Import the pandas library\n",
    "\n",
    "def calculate_grm_vanraden(genotype_matrix: np.ndarray) -> np.ndarray:\n",
    "    \"\"\"\n",
    "    Calculates the Genomic Relationship Matrix (GRM) using VanRaden's method 1.\n",
    "    \"\"\"\n",
    "    # Get matrix dimensions: n = number of individuals, m = number of markers.\n",
    "    n, m = genotype_matrix.shape\n",
    "    \n",
    "    print(f\"🧬 Analyzing {n} individuals and {m} markers...\")\n",
    "\n",
    "    # Step 1: Calculate allele frequencies (p)\n",
    "    p = np.sum(genotype_matrix, axis=0) / (2 * n)\n",
    "    \n",
    "    # Step 2: Center the genotype matrix to create matrix M\n",
    "    M = genotype_matrix - (2 * p)\n",
    "    \n",
    "    # Step 3: Calculate the scaling factor\n",
    "    denominator = 2 * np.sum(p * (1 - p))\n",
    "    \n",
    "    # Step 4: Compute the GRM (G)\n",
    "    G = (M @ M.T) / denominator\n",
    "    \n",
    "    print(\"✅ GRM calculation complete.\")\n",
    "    return G"
   ]
  },
  {
   "cell_type": "code",
   "execution_count": null,
   "metadata": {},
   "outputs": [],
   "source": [
    "#| hide\n",
    "import nbdev; nbdev.nbdev_export()"
   ]
  },
  {
   "cell_type": "code",
   "execution_count": null,
   "metadata": {},
   "outputs": [],
   "source": []
  }
 ],
 "metadata": {
  "kernelspec": {
   "display_name": "python3",
   "language": "python",
   "name": "python3"
  }
 },
 "nbformat": 4,
 "nbformat_minor": 4
}
