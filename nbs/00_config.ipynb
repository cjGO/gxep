{
 "cells": [
  {
   "cell_type": "code",
   "execution_count": null,
   "metadata": {},
   "outputs": [
    {
     "name": "stdout",
     "output_type": "stream",
     "text": [
      "The autoreload extension is already loaded. To reload it, use:\n",
      "  %reload_ext autoreload\n"
     ]
    }
   ],
   "source": [
    "%load_ext autoreload\n",
    "%autoreload 2"
   ]
  },
  {
   "cell_type": "markdown",
   "metadata": {},
   "source": [
    "# config\n",
    "\n",
    "> Fill in a module description here"
   ]
  },
  {
   "cell_type": "code",
   "execution_count": null,
   "metadata": {},
   "outputs": [],
   "source": [
    "#| default_exp config"
   ]
  },
  {
   "cell_type": "code",
   "execution_count": null,
   "metadata": {},
   "outputs": [],
   "source": [
    "#| hide\n",
    "from nbdev.showdoc import *"
   ]
  },
  {
   "cell_type": "code",
   "execution_count": null,
   "metadata": {},
   "outputs": [
    {
     "name": "stdout",
     "output_type": "stream",
     "text": [
      "/mnt/c/Users/cltng/gdrive/gxep/data/GenomicMarkers.csv\n"
     ]
    }
   ],
   "source": [
    "#| export\n",
    "\n",
    "from nbdev.config import get_config\n",
    "from pathlib import Path\n",
    "\n",
    "# 1. Get the project root directory (the folder containing settings.ini)\n",
    "# In your case, this correctly resolves to '/home/glect/gdrive/gxep'\n",
    "root = get_config().config_path\n",
    "\n",
    "# 2. Define all your data paths relative to that root\n",
    "marker_data_path = root/'data'/'GenomicMarkers.csv'\n",
    "train_data_path = root/'data'/'TrainingData.csv'\n",
    "test_data_path = root/'data'/'TestData.csv'\n",
    "print(marker_data_path)\n",
    "\n",
    "col_names = ['genotype.id','replicate','tillering','leaf.size','maturity','plant.density','environment','yield']\n",
    "\n",
    "#fold_config\n"
   ]
  },
  {
   "cell_type": "code",
   "execution_count": null,
   "metadata": {},
   "outputs": [],
   "source": [
    "#| hide\n",
    "import nbdev; nbdev.nbdev_export()"
   ]
  },
  {
   "cell_type": "code",
   "execution_count": null,
   "metadata": {},
   "outputs": [],
   "source": []
  }
 ],
 "metadata": {
  "kernelspec": {
   "display_name": "python3",
   "language": "python",
   "name": "python3"
  }
 },
 "nbformat": 4,
 "nbformat_minor": 4
}
